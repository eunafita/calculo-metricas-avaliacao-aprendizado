{
 "cells": [
  {
   "cell_type": "markdown",
   "metadata": {
    "id": "7HTpePu40wA8"
   },
   "source": [
    "Importação de bibliotecas\n"
   ]
  },
  {
   "cell_type": "code",
   "execution_count": 3,
   "metadata": {
    "id": "BfW5iRn_UrIV"
   },
   "outputs": [],
   "source": [
    "from tensorflow.keras import datasets, layers, models\n",
    "import matplotlib.pyplot as plt\n",
    "import tensorflow as tf\n",
    "import numpy as np\n",
    "import seaborn as sns\n",
    "import pandas as pd"
   ]
  },
  {
   "cell_type": "markdown",
   "metadata": {
    "id": "aiXL8-E60zLD"
   },
   "source": [
    "Extensão TensorBoard"
   ]
  },
  {
   "cell_type": "code",
   "execution_count": 5,
   "metadata": {
    "id": "4A4PI7ndoO7g"
   },
   "outputs": [],
   "source": [
    "load_ext tensorboard"
   ]
  },
  {
   "cell_type": "markdown",
   "metadata": {
    "id": "tU_J-xBc019Z"
   },
   "source": [
    "Definição do diretório de logs para TensorBoard"
   ]
  },
  {
   "cell_type": "code",
   "execution_count": 6,
   "metadata": {
    "id": "sQxt9j9RoSaM"
   },
   "outputs": [],
   "source": [
    "logdir='log'"
   ]
  },
  {
   "cell_type": "markdown",
   "metadata": {
    "id": "J5_jb_-L06OZ"
   },
   "source": [
    "Carregamento e preparação dos dados MNIST"
   ]
  },
  {
   "cell_type": "code",
   "execution_count": 9,
   "metadata": {
    "id": "ShjJ6oC6oWWh"
   },
   "outputs": [],
   "source": [
    "(train_images, train_labels), (test_images, test_labels) = datasets.mnist.load_data()\n",
    "\n",
    "train_images = train_images.reshape((60000, 28, 28, 1))\n",
    "test_images = test_images.reshape((10000, 28, 28, 1))\n",
    "\n",
    "train_images, test_images = train_images / 255.0, test_images / 255.0\n",
    "\n",
    "classes=[0,1,2,3,4,5,6,7,8,9]\n"
   ]
  },
  {
   "cell_type": "markdown",
   "metadata": {
    "id": "vzLJNjM509Aq"
   },
   "source": [
    "Construção do modelo de Rede Neural Convolucional"
   ]
  },
  {
   "cell_type": "code",
   "execution_count": null,
   "metadata": {
    "colab": {
     "base_uri": "https://localhost:8080/"
    },
    "collapsed": true,
    "id": "4LNeaoNBog7b",
    "outputId": "996c8910-6b93-4092-d0bf-a7c28fd7040a"
   },
   "outputs": [],
   "source": [
    "model = models.Sequential()\n",
    "model.add(layers .Conv2D(32, (3,3), activation='relu', input_shape=(28,28,1)))\n",
    "model.add(layers.MaxPooling2D((2,2)))\n",
    "model.add(layers.Conv2D(64, (3,3), activation='relu'))\n",
    "model.add(layers.MaxPooling2D((2,2)))\n",
    "model.add(layers.Conv2D(64, (3,3), activation='relu'))\n",
    "model.add(layers.Flatten())\n",
    "model.add(layers.Dense(64, activation='relu'))\n",
    "model.add(layers.Dense(10, activation='softmax'))"
   ]
  },
  {
   "cell_type": "markdown",
   "metadata": {
    "id": "djLc7YWH0_fq"
   },
   "source": [
    "Configuração do TensorBoard"
   ]
  },
  {
   "cell_type": "code",
   "execution_count": 11,
   "metadata": {
    "id": "_kQg8kIZpTxz"
   },
   "outputs": [],
   "source": [
    "tensorboard_callback = tf.keras.callbacks.TensorBoard(logdir, histogram_freq=1)"
   ]
  },
  {
   "cell_type": "markdown",
   "metadata": {
    "id": "ixyXR_jP1BZQ"
   },
   "source": [
    "Compilação e treinamento do modelo"
   ]
  },
  {
   "cell_type": "code",
   "execution_count": null,
   "metadata": {
    "colab": {
     "base_uri": "https://localhost:8080/"
    },
    "id": "nk_Vq44VperP",
    "outputId": "f0378e6c-9b88-41e7-93a8-d3ffb6ac4195"
   },
   "outputs": [],
   "source": [
    "from logging import logProcesses\n",
    "model.compile(optimizer='adam',\n",
    "              loss='sparse_categorical_crossentropy',\n",
    "              metrics=['accuracy'])\n",
    "\n",
    "model.fit(x=train_images,\n",
    "          y=train_labels,\n",
    "          epochs=5,\n",
    "          validation_data=(test_images, test_labels))"
   ]
  },
  {
   "cell_type": "markdown",
   "metadata": {
    "id": "W7cSg6Be1Fmv"
   },
   "source": [
    "Geração de predições"
   ]
  },
  {
   "cell_type": "code",
   "execution_count": null,
   "metadata": {
    "colab": {
     "base_uri": "https://localhost:8080/"
    },
    "id": "ODznNRYUqq2r",
    "outputId": "bd77fa4a-9c56-4b20-b412-70b7cdb93f51"
   },
   "outputs": [],
   "source": [
    "y_true=test_labels\n",
    "y_pred=model.predict(test_images)\n"
   ]
  },
  {
   "cell_type": "markdown",
   "metadata": {
    "id": "HHa33-551I0M"
   },
   "source": [
    "Re-definição das classes"
   ]
  },
  {
   "cell_type": "code",
   "execution_count": 15,
   "metadata": {
    "id": "xLCyTMeiqy8r"
   },
   "outputs": [],
   "source": [
    "classes=[0,1,2,3,4,5,6,7,8,9]"
   ]
  },
  {
   "cell_type": "markdown",
   "metadata": {
    "id": "CgXQ3kcX1ME-"
   },
   "source": [
    "Gerando a Matriz de Confusão"
   ]
  },
  {
   "cell_type": "code",
   "execution_count": null,
   "metadata": {
    "colab": {
     "base_uri": "https://localhost:8080/",
     "height": 826
    },
    "id": "rQn3rsdKq_Lt",
    "outputId": "27c3e9a0-9fea-4798-fb0f-85518e7c6c7a"
   },
   "outputs": [],
   "source": [
    "# Previsões para as classes (de probabilidades para índices inteiros)\n",
    "y_pred_classes = np.argmax(y_pred, axis=1)\n",
    "\n",
    "# Matriz de confusão\n",
    "con_mat = tf.math.confusion_matrix(labels=y_true, predictions=y_pred_classes).numpy()\n",
    "con_mat_norm = np.around(con_mat.astype('float') / con_mat.sum(axis=1)[:, np.newaxis], decimals=2)\n",
    "\n",
    "# Criação do DataFrame para plotagem\n",
    "con_mat_df = pd.DataFrame(con_mat_norm,\n",
    "                          index=classes,\n",
    "                          columns=classes)\n",
    "\n",
    "# Plotagem da matriz de confusão\n",
    "figure = plt.figure(figsize=(8, 8))\n",
    "sns.heatmap(con_mat_df, annot=True, cmap=plt.cm.Blues)\n",
    "plt.tight_layout()\n",
    "plt.ylabel('True label')\n",
    "plt.xlabel('Predicted label')\n",
    "plt.show()\n"
   ]
  },
  {
   "cell_type": "markdown",
   "metadata": {
    "id": "O0W-YsvRuqwB"
   },
   "source": [
    "Cálculo da Acurácia:"
   ]
  },
  {
   "cell_type": "code",
   "execution_count": null,
   "metadata": {
    "colab": {
     "base_uri": "https://localhost:8080/",
     "height": 408
    },
    "id": "KkfkyphcuBuz",
    "outputId": "7cfaf647-11e0-42b3-f23d-72b6db15c959"
   },
   "outputs": [],
   "source": [
    "# Cálculo da acurácia\n",
    "total = con_mat.sum()  # Soma de todos os elementos da matriz de confusão\n",
    "acuracia = np.trace(con_mat) / total  # Soma da diagonal principal (VP + VN) dividido pelo total\n",
    "print(f\"Acurácia: {acuracia:.2f}\")\n",
    "\n",
    "# Gráfico de Acurácia\n",
    "plt.figure(figsize=(6, 4))\n",
    "plt.bar(['Acurácia'], [acuracia], color='blue')\n",
    "plt.ylim(0, 1)\n",
    "plt.ylabel('Valor')\n",
    "plt.title('Acurácia do Modelo')\n",
    "plt.show()\n",
    "\n"
   ]
  },
  {
   "cell_type": "markdown",
   "metadata": {
    "id": "RiefqWLWumXd"
   },
   "source": [
    "Cálculo da Sensibilidade(Recall):"
   ]
  },
  {
   "cell_type": "code",
   "execution_count": null,
   "metadata": {
    "colab": {
     "base_uri": "https://localhost:8080/",
     "height": 738
    },
    "id": "uy0K53I7uUNr",
    "outputId": "b24f7817-ce67-422c-c892-5d93e4cb2ec3"
   },
   "outputs": [],
   "source": [
    "# Cálculo da sensibilidade (recall) por classe\n",
    "sensibilidade = []\n",
    "for i in range(len(classes)):\n",
    "    vp = con_mat[i, i]  # Verdadeiros Positivos\n",
    "    fn = np.sum(con_mat[i, :]) - vp  # Falsos Negativos\n",
    "    recall = vp / (vp + fn) if (vp + fn) != 0 else 0\n",
    "    sensibilidade.append(recall)\n",
    "    print(f\"Classe {classes[i]} - Sensibilidade: {recall:.2f}\")\n",
    "\n",
    "\n",
    "# Gráfico de Sensibilidade por Classe\n",
    "plt.figure(figsize=(10, 6))\n",
    "plt.bar(classes, sensibilidade, color='orange')\n",
    "plt.ylim(0, 1)\n",
    "plt.xlabel('Classes')\n",
    "plt.ylabel('Sensibilidade (Recall)')\n",
    "plt.title('Sensibilidade (Recall) por Classe')\n",
    "plt.show()\n"
   ]
  },
  {
   "cell_type": "markdown",
   "metadata": {
    "id": "hBJ879Ydug1c"
   },
   "source": [
    "Cálculo do F-Score:"
   ]
  },
  {
   "cell_type": "code",
   "execution_count": null,
   "metadata": {
    "colab": {
     "base_uri": "https://localhost:8080/",
     "height": 738
    },
    "id": "Oh9ApL-xufmD",
    "outputId": "d6d961d0-2213-40e7-df60-cc630a95bde2"
   },
   "outputs": [],
   "source": [
    "# Cálculo do F-Score por classe\n",
    "f_scores = []\n",
    "for i in range(len(classes)):\n",
    "    vp = con_mat[i, i]  # Verdadeiros Positivos\n",
    "    fp = np.sum(con_mat[:, i]) - vp  # Falsos Positivos\n",
    "    fn = np.sum(con_mat[i, :]) - vp  # Falsos Negativos\n",
    "\n",
    "    precisao = vp / (vp + fp) if (vp + fp) != 0 else 0\n",
    "    recall = vp / (vp + fn) if (vp + fn) != 0 else 0\n",
    "\n",
    "    f_score = 2 * (precisao * recall) / (precisao + recall) if (precisao + recall) != 0 else 0\n",
    "    f_scores.append(f_score)\n",
    "    print(f\"Classe {classes[i]} - F-Score: {f_score:.2f}\")\n",
    "\n",
    "# Gráfico de F-Score por Classe\n",
    "plt.figure(figsize=(10, 6))\n",
    "plt.bar(classes, f_scores, color='green')\n",
    "plt.ylim(0, 1)\n",
    "plt.xlabel('Classes')\n",
    "plt.ylabel('F-Score')\n",
    "plt.title('F-Score por Classe')\n",
    "plt.show()\n",
    "\n"
   ]
  },
  {
   "cell_type": "markdown",
   "metadata": {
    "id": "L-T8TR5mylKO"
   },
   "source": [
    "Cálculo Curva ROC:"
   ]
  },
  {
   "cell_type": "code",
   "execution_count": null,
   "metadata": {
    "colab": {
     "base_uri": "https://localhost:8080/",
     "height": 718
    },
    "id": "9NHp3fmPyg9W",
    "outputId": "b2e75d99-a38a-429d-a628-d32a9fa768fb"
   },
   "outputs": [],
   "source": [
    "from sklearn.metrics import roc_curve, auc\n",
    "\n",
    "y_true_one_hot = tf.keras.utils.to_categorical(y_true, num_classes=len(classes))\n",
    "\n",
    "plt.figure(figsize=(10, 8))\n",
    "for i in range(len(classes)):\n",
    "    fpr, tpr, thresholds = roc_curve(y_true_one_hot[:, i], y_pred[:, i])\n",
    "    roc_auc = auc(fpr, tpr)\n",
    "    plt.plot(fpr, tpr, label=f'Classe {classes[i]} (AUC = {roc_auc:.2f})')\n",
    "\n",
    "plt.plot([0, 1], [0, 1], color='gray', linestyle='--')\n",
    "plt.xlabel('Taxa de Falsos Positivos (FPR)')\n",
    "plt.ylabel('Taxa de Verdadeiros Positivos (TPR)')\n",
    "plt.title('Curva ROC')\n",
    "plt.legend(loc='lower right')\n",
    "plt.show()\n",
    "\n",
    "\n"
   ]
  }
 ],
 "metadata": {
  "accelerator": "GPU",
  "colab": {
   "gpuType": "T4",
   "provenance": []
  },
  "kernelspec": {
   "display_name": "Python 3",
   "name": "python3"
  },
  "language_info": {
   "name": "python"
  }
 },
 "nbformat": 4,
 "nbformat_minor": 0
}
